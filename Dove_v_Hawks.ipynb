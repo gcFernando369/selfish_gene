{
 "cells": [
  {
   "cell_type": "code",
   "execution_count": 2,
   "metadata": {},
   "outputs": [],
   "source": [
    "import numpy as np\n",
    "import matplotlib.pyplot as plt"
   ]
  },
  {
   "cell_type": "code",
   "execution_count": 206,
   "metadata": {},
   "outputs": [],
   "source": [
    "HAWK = 'HAWK'\n",
    "DOVE = 'DOVE'\n",
    "POINTS = {\n",
    "    'DEATH': -100,\n",
    "    'LOSE': -10,\n",
    "    'WIN': 50\n",
    "}\n",
    "POPULATION_SIZE = 100\n",
    "MAX_ROUNDS = 5\n",
    "LIMIT_RESOURCE = 100"
   ]
  },
  {
   "cell_type": "code",
   "execution_count": 182,
   "metadata": {},
   "outputs": [],
   "source": [
    "class Individual:\n",
    "    def __init__(self, behavior):\n",
    "        self.rounds = 0\n",
    "        self.behavior = behavior"
   ]
  },
  {
   "cell_type": "code",
   "execution_count": 193,
   "metadata": {},
   "outputs": [],
   "source": [
    "def content(population):\n",
    "    figths = np.random.permutation(population.shape[0])\n",
    "    if figths.shape[0] % 2 != 0: figths = figths[:figths.shape[0]-1]\n",
    "    figths = np.reshape(figths, (-1, 2))\n",
    "    ranking = np.zeros(population.shape)\n",
    "    for figth in figths:\n",
    "        op1, op2 = population[figth[0]].behavior, population[figth[1]].behavior\n",
    "        if op1 == op2 == DOVE: ranking[figth[0]], ranking[figth[1]] = POINTS['WIN']-10, POINTS['LOSE']\n",
    "        elif op1 == op2 == HAWK: ranking[figth[0]], ranking[figth[1]] = POINTS['WIN'], POINTS['DEATH']\n",
    "        elif op1 == DOVE and op2 == HAWK: ranking[figth[0]], ranking[figth[1]] = 0, POINTS['WIN']\n",
    "        elif op1 == HAWK and op2 == DOVE: ranking[figth[0]], ranking[figth[1]] = POINTS['WIN'], 0\n",
    "    return ranking"
   ]
  },
  {
   "cell_type": "code",
   "execution_count": 194,
   "metadata": {},
   "outputs": [],
   "source": [
    "def desc_population(population):\n",
    "    doves, hawks = 0, 0\n",
    "    for individual in population:\n",
    "        if individual.behavior == DOVE: doves+=1\n",
    "        elif individual.behavior == HAWK: hawks+=1\n",
    "    return [ doves, hawks ]"
   ]
  },
  {
   "cell_type": "code",
   "execution_count": 207,
   "metadata": {},
   "outputs": [
    {
     "data": {
      "image/png": "[encoded data removed]",
      "text/plain": [
       "<Figure size 432x288 with 1 Axes>"
      ]
     },
     "metadata": {
      "needs_background": "light"
     },
     "output_type": "display_data"
    }
   ],
   "source": [
    "# Create init population\n",
    "population = [ Individual(DOVE) for i in range(200 - 1) ]\n",
    "population.insert(np.random.randint(POPULATION_SIZE), Individual(HAWK))\n",
    "population = np.asarray(population)\n",
    "\n",
    "idx_population = [ desc_population(population) ]\n",
    "\n",
    "for i in range(50):\n",
    "    # Content\n",
    "    ranking = content(population)\n",
    "    idx_rank = np.flip(np.argsort(ranking))\n",
    "    new_population = []\n",
    "    \n",
    "    limit = int(LIMIT_RESOURCE + 15 * (np.random.rand() - 0.5))\n",
    "    long = limit if idx_rank.shape[0] > limit else idx_rank.shape[0]\n",
    "    \n",
    "    for idx in range(long):\n",
    "        pos = idx_rank[idx]\n",
    "        new_population += [ population[pos], Individual(population[pos].behavior) ]\n",
    "            \n",
    "    population = np.asarray(new_population)\n",
    "    idx_population.append(desc_population(population))\n",
    "\n",
    "y = np.asarray(idx_population)\n",
    "x = np.arange(y.shape[0])\n",
    "plt.plot(x, y[:,0], x, y[:,1])\n",
    "plt.show()"
   ]
  },
  {
   "cell_type": "code",
   "execution_count": null,
   "metadata": {},
   "outputs": [],
   "source": []
  }
 ],
 "metadata": {
  "kernelspec": {
   "display_name": "Python 3",
   "language": "python",
   "name": "python3"
  },
  "language_info": {
   "codemirror_mode": {
    "name": "ipython",
    "version": 3
   },
   "file_extension": ".py",
   "mimetype": "text/x-python",
   "name": "python",
   "nbconvert_exporter": "python",
   "pygments_lexer": "ipython3",
   "version": "3.6.7"
  }
 },
 "nbformat": 4,
 "nbformat_minor": 2
}
